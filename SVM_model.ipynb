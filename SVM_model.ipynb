{
 "cells": [
  {
   "cell_type": "code",
   "execution_count": 1,
   "id": "870296d0",
   "metadata": {},
   "outputs": [],
   "source": [
    "# standard libraries\n",
    "import pandas as pd\n",
    "import numpy as np\n",
    "import os\n",
    "\n",
    "# data visualization\n",
    "import matplotlib.pyplot as plt\n",
    "from IPython.display import Image\n",
    "\n",
    "# data preprocessing\n",
    "from sklearn import datasets\n",
    "from sklearn.preprocessing import StandardScaler\n",
    "from sklearn import preprocessing\n",
    "\n",
    "# prediction models\n",
    "from sklearn.svm import SVC"
   ]
  },
  {
   "cell_type": "code",
   "execution_count": null,
   "id": "53cb4125",
   "metadata": {},
   "outputs": [],
   "source": [
    "from tensorflow import keras\n",
    "from tensorflow.keras.preprocessing.image import ImageDataGenerator\n",
    "from tensorflow.keras.applications import InceptionResNetV2\n",
    "from tensorflow.keras.layers import GlobalAveragePooling2D, Dense\n",
    "from tensorflow.keras.models import Model"
   ]
  },
  {
   "cell_type": "code",
   "execution_count": 2,
   "id": "8acac865",
   "metadata": {},
   "outputs": [
    {
     "name": "stdout",
     "output_type": "stream",
     "text": [
      "/Users/jagannathanlakshmipathy/Desktop/UCB/W207/FinalPorject_laptop\n"
     ]
    }
   ],
   "source": [
    "print(os.getcwd())\n",
    "#os.chdir('archive/asl_alphabet_train/asl_alphabet_train')\n",
    "os.listdir()\n",
    "train_path = './archive_40k/asl_alphabet_train/asl_alphabet_train/'\n",
    "test_path = './archive_40k/asl_alphabet_test/asl_alphabet_test/'"
   ]
  },
  {
   "cell_type": "code",
   "execution_count": null,
   "id": "df8a2851",
   "metadata": {},
   "outputs": [],
   "source": [
    "datagen = ImageDataGenerator(rescale=1/255, validation_split=0.3)\n",
    "\n",
    "train = datagen.flow_from_directory(train_path, subset='training')\n",
    "val = datagen.flow_from_directory(train_path, subset='validation')"
   ]
  },
  {
   "cell_type": "code",
   "execution_count": null,
   "id": "5bdd0d27",
   "metadata": {},
   "outputs": [],
   "source": [
    "type(train)"
   ]
  },
  {
   "cell_type": "code",
   "execution_count": 3,
   "id": "644a1a7e",
   "metadata": {},
   "outputs": [],
   "source": [
    "import cv2\n",
    "import glob\n",
    "\n",
    "labels =  os.listdir(train_path)\n",
    "X_img = []\n",
    "y = []\n",
    "xarr = np.zeros([87000, 200*200], dtype = float)\n",
    "yarr = np.zeros([87000], dtype = int)\n",
    "row = 0\n",
    "for label in labels:\n",
    "    img_dir_for_label = train_path + label + '/'\n",
    "    image_filenames = os.listdir(img_dir_for_label)\n",
    "    for file in image_filenames:\n",
    "        img = cv2.imread(os.path.join(img_dir_for_label,file),cv2.IMREAD_GRAYSCALE).reshape(-1)\n",
    "        xarr[row,:] = img\n",
    "        yarr[row] = labels.index(label)\n",
    "        row = row + 1     "
   ]
  },
  {
   "cell_type": "code",
   "execution_count": 7,
   "id": "f6a230c5",
   "metadata": {},
   "outputs": [
    {
     "ename": "OSError",
     "evalue": "[Errno 28] No space left on device",
     "output_type": "error",
     "traceback": [
      "\u001b[0;31m---------------------------------------------------------------------------\u001b[0m",
      "\u001b[0;31mOSError\u001b[0m                                   Traceback (most recent call last)",
      "\u001b[0;32m<ipython-input-7-16b0aeb0cb22>\u001b[0m in \u001b[0;36m<module>\u001b[0;34m\u001b[0m\n\u001b[1;32m      2\u001b[0m \u001b[0;34m\u001b[0m\u001b[0m\n\u001b[1;32m      3\u001b[0m \u001b[0;32mwith\u001b[0m \u001b[0mopen\u001b[0m\u001b[0;34m(\u001b[0m\u001b[0;34m'xarr.pkl'\u001b[0m\u001b[0;34m,\u001b[0m \u001b[0;34m'ab'\u001b[0m\u001b[0;34m)\u001b[0m \u001b[0;32mas\u001b[0m \u001b[0mf\u001b[0m\u001b[0;34m:\u001b[0m\u001b[0;34m\u001b[0m\u001b[0;34m\u001b[0m\u001b[0m\n\u001b[0;32m----> 4\u001b[0;31m         \u001b[0mpickle\u001b[0m\u001b[0;34m.\u001b[0m\u001b[0mdump\u001b[0m\u001b[0;34m(\u001b[0m\u001b[0mxarr\u001b[0m\u001b[0;34m,\u001b[0m \u001b[0mf\u001b[0m\u001b[0;34m)\u001b[0m\u001b[0;34m\u001b[0m\u001b[0;34m\u001b[0m\u001b[0m\n\u001b[0m",
      "\u001b[0;31mOSError\u001b[0m: [Errno 28] No space left on device"
     ]
    }
   ],
   "source": [
    "import pickle\n",
    "\n",
    "with open('xarr.pkl', 'ab') as f:\n",
    "        pickle.dump(xarr, f)"
   ]
  },
  {
   "cell_type": "code",
   "execution_count": null,
   "id": "ed0b4f7c",
   "metadata": {},
   "outputs": [],
   "source": [
    "X = pd.DataFrame(xarr)\n",
    "y = pd.DataFrame(yarr)\n",
    "\n",
    "print(X[(y > 4)][:5])"
   ]
  },
  {
   "cell_type": "code",
   "execution_count": null,
   "id": "ce10cd4e",
   "metadata": {},
   "outputs": [],
   "source": [
    "from sklearn.utils import shuffle\n",
    "\n",
    "shuffle(xarr, yarr, random_state=0)"
   ]
  },
  {
   "cell_type": "code",
   "execution_count": null,
   "id": "5f81175d",
   "metadata": {},
   "outputs": [],
   "source": [
    "X = pd.DataFrame(xarr)\n",
    "y = pd.DataFrame(yarr)\n",
    "\n",
    "print(X[(y > 4)][:5])"
   ]
  },
  {
   "cell_type": "code",
   "execution_count": null,
   "id": "e3300425",
   "metadata": {},
   "outputs": [],
   "source": [
    "xarr = np.zeros([100, 3], dtype = float)\n",
    "xarr[99:] = np.array([1, 2, 3])\n",
    "print(xarr)"
   ]
  },
  {
   "cell_type": "code",
   "execution_count": null,
   "id": "4849a223",
   "metadata": {},
   "outputs": [],
   "source": [
    "labels.index('T')"
   ]
  },
  {
   "cell_type": "code",
   "execution_count": null,
   "id": "58f7ba50",
   "metadata": {},
   "outputs": [],
   "source": []
  }
 ],
 "metadata": {
  "kernelspec": {
   "display_name": "w207_env",
   "language": "python",
   "name": "w207_env"
  },
  "language_info": {
   "codemirror_mode": {
    "name": "ipython",
    "version": 3
   },
   "file_extension": ".py",
   "mimetype": "text/x-python",
   "name": "python",
   "nbconvert_exporter": "python",
   "pygments_lexer": "ipython3",
   "version": "3.8.8"
  }
 },
 "nbformat": 4,
 "nbformat_minor": 5
}
