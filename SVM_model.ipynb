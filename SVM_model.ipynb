{
  "nbformat": 4,
  "nbformat_minor": 5,
  "metadata": {
    "kernelspec": {
      "name": "python3",
      "display_name": "Python 3"
    },
    "colab": {
      "name": "SVM_model.ipynb",
      "provenance": [],
      "machine_shape": "hm"
    },
    "language_info": {
      "name": "python"
    }
  },
  "cells": [
    {
      "cell_type": "code",
      "metadata": {
        "colab": {
          "base_uri": "https://localhost:8080/"
        },
        "id": "870296d0",
        "outputId": "4c348846-3382-4905-f12d-7292d16caca1"
      },
      "source": [
        "from google.colab import drive\n",
        "drive.mount(\"/content/gdrive\")"
      ],
      "id": "870296d0",
      "execution_count": 1,
      "outputs": [
        {
          "output_type": "stream",
          "name": "stdout",
          "text": [
            "Mounted at /content/gdrive\n"
          ]
        }
      ]
    },
    {
      "cell_type": "code",
      "metadata": {
        "colab": {
          "base_uri": "https://localhost:8080/",
          "height": 35
        },
        "id": "VrxPHttj0JW1",
        "outputId": "951ce48e-7ab1-4f61-a59a-472b540dfe3d"
      },
      "source": [
        "import gdown\n",
        "\n",
        "url = 'https://drive.google.com/uc?id=1S-z8nvTAYeBwRsQCGAlDloooNqt31T8M'\n",
        "outfile = 'X_label.csv'\n",
        "gdown.download(url, outfile, quiet=True)"
      ],
      "id": "VrxPHttj0JW1",
      "execution_count": 1,
      "outputs": [
        {
          "output_type": "execute_result",
          "data": {
            "application/vnd.google.colaboratory.intrinsic+json": {
              "type": "string"
            },
            "text/plain": [
              "'X_label.csv'"
            ]
          },
          "metadata": {},
          "execution_count": 1
        }
      ]
    },
    {
      "cell_type": "code",
      "metadata": {
        "id": "Lwqr5bSR0pcs",
        "outputId": "ecf1db4a-641c-4c0c-c775-188cc2a377f8",
        "colab": {
          "base_uri": "https://localhost:8080/"
        }
      },
      "source": [
        "import time\n",
        "\n",
        "url = 'https://drive.google.com/uc?id=1qtzN3qcusdHCe2zcM-hgXW19lW8FsHr8'\n",
        "outfile = 'X_train.pq'\n",
        "start_time = time.time()\n",
        "gdown.download(url, outfile, quiet=True)\n",
        "print(\"Time taken:\", time.time() - start_time)\n"
      ],
      "id": "Lwqr5bSR0pcs",
      "execution_count": 2,
      "outputs": [
        {
          "output_type": "stream",
          "name": "stdout",
          "text": [
            "Time taken: 112.6321017742157\n"
          ]
        }
      ]
    },
    {
      "cell_type": "code",
      "metadata": {
        "id": "jfUo-Qlu2k9D"
      },
      "source": [
        "import numpy as np\n",
        "import pandas as pd\n",
        "import pathlib\n",
        "import matplotlib.pyplot as plt\n",
        "from matplotlib import image\n",
        "import glob\n",
        "import cv2\n",
        "import os\n",
        "import zipfile\n",
        "import pyarrow as pa\n",
        "import pyarrow.parquet as pq\n",
        "import gc\n",
        "import time\n",
        "import sys\n",
        "import sklearn\n",
        "from sklearn.model_selection import train_test_split\n",
        "from sklearn.utils import shuffle\n",
        "from sklearn.model_selection import GridSearchCV\n",
        "from sklearn.metrics import classification_report\n",
        "from sklearn.naive_bayes import GaussianNB\n",
        "from sklearn.metrics import confusion_matrix\n",
        "import timeit"
      ],
      "id": "jfUo-Qlu2k9D",
      "execution_count": 1,
      "outputs": []
    },
    {
      "cell_type": "markdown",
      "metadata": {
        "id": "9IrawMTV0c6U"
      },
      "source": [
        "# New Section"
      ],
      "id": "9IrawMTV0c6U"
    },
    {
      "cell_type": "code",
      "metadata": {
        "id": "53cb4125"
      },
      "source": [
        "def timeit(f):\n",
        "    def wrap(*args, **kw):\n",
        "        ts = time.time()\n",
        "        result = f(*args, **kw)\n",
        "        te = time.time()\n",
        "        print(f'func:{f.__name__} args:[{args}, {kw}] took: {te-ts:2.4f} sec')        \n",
        "        return result\n",
        "    return wrap\n"
      ],
      "id": "53cb4125",
      "execution_count": 2,
      "outputs": []
    },
    {
      "cell_type": "code",
      "metadata": {
        "id": "8acac865"
      },
      "source": [
        "@timeit\n",
        "def load():\n",
        "  path = pathlib.Path('/content/X_train.pq')\n",
        "  table = pq.read_table(str(path))\n",
        "  table = table.to_pandas().to_numpy()\n",
        "  return table"
      ],
      "id": "8acac865",
      "execution_count": 3,
      "outputs": []
    },
    {
      "cell_type": "code",
      "metadata": {
        "colab": {
          "base_uri": "https://localhost:8080/"
        },
        "id": "df8a2851",
        "outputId": "e412a8e9-c74d-4cf7-cdea-97d66c5d85e4"
      },
      "source": [
        "X_train = load()"
      ],
      "id": "df8a2851",
      "execution_count": 4,
      "outputs": [
        {
          "output_type": "stream",
          "name": "stdout",
          "text": [
            "func:load args:[(), {}] took: 67.7988 sec\n"
          ]
        }
      ]
    },
    {
      "cell_type": "code",
      "metadata": {
        "id": "5bdd0d27"
      },
      "source": [
        "type(train)"
      ],
      "id": "5bdd0d27",
      "execution_count": null,
      "outputs": []
    },
    {
      "cell_type": "code",
      "metadata": {
        "colab": {
          "base_uri": "https://localhost:8080/"
        },
        "id": "644a1a7e",
        "outputId": "9089c975-a308-4af6-feca-78ec7eb6fae1"
      },
      "source": [
        "y_train = np.array(pd.read_csv(pathlib.Path('/content/X_label.csv')))\n",
        "y_train   "
      ],
      "id": "644a1a7e",
      "execution_count": 5,
      "outputs": [
        {
          "output_type": "execute_result",
          "data": {
            "text/plain": [
              "array([['del'],\n",
              "       ['del'],\n",
              "       ['del'],\n",
              "       ...,\n",
              "       ['Z'],\n",
              "       ['Z'],\n",
              "       ['Z']], dtype=object)"
            ]
          },
          "metadata": {},
          "execution_count": 5
        }
      ]
    },
    {
      "cell_type": "code",
      "metadata": {
        "id": "f6a230c5"
      },
      "source": [
        "# data preprocessing\n",
        "from sklearn.preprocessing import StandardScaler\n",
        "\n",
        "\n",
        "sc = StandardScaler()\n",
        "# estimate the sample mean and standard deviation for each feature in X_train\n",
        "sc.fit(X_train)\n",
        "# use the two parameters to standardize both X_train and X_test\n",
        "X = sc.transform(X_train)\n"
      ],
      "id": "f6a230c5",
      "execution_count": null,
      "outputs": []
    },
    {
      "cell_type": "code",
      "metadata": {
        "id": "ed0b4f7c"
      },
      "source": [
        "X = pd.DataFrame(xarr)\n",
        "y = pd.DataFrame(yarr)\n",
        "\n",
        "print(X[(y > 4)][:5])"
      ],
      "id": "ed0b4f7c",
      "execution_count": null,
      "outputs": []
    },
    {
      "cell_type": "code",
      "metadata": {
        "id": "ce10cd4e"
      },
      "source": [
        "from sklearn.utils import shuffle\n",
        "\n",
        "shuffle(xarr, yarr, random_state=0)"
      ],
      "id": "ce10cd4e",
      "execution_count": null,
      "outputs": []
    },
    {
      "cell_type": "code",
      "metadata": {
        "id": "5f81175d"
      },
      "source": [
        "X = pd.DataFrame(xarr)\n",
        "y = pd.DataFrame(yarr)\n",
        "\n",
        "print(X[(y > 4)][:5])"
      ],
      "id": "5f81175d",
      "execution_count": null,
      "outputs": []
    },
    {
      "cell_type": "code",
      "metadata": {
        "id": "e3300425"
      },
      "source": [
        "xarr = np.zeros([100, 3], dtype = float)\n",
        "xarr[99:] = np.array([1, 2, 3])\n",
        "print(xarr)"
      ],
      "id": "e3300425",
      "execution_count": null,
      "outputs": []
    },
    {
      "cell_type": "code",
      "metadata": {
        "id": "4849a223"
      },
      "source": [
        "labels.index('T')"
      ],
      "id": "4849a223",
      "execution_count": null,
      "outputs": []
    },
    {
      "cell_type": "code",
      "metadata": {
        "id": "58f7ba50"
      },
      "source": [
        ""
      ],
      "id": "58f7ba50",
      "execution_count": null,
      "outputs": []
    }
  ]
}