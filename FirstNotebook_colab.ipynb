{
  "nbformat": 4,
  "nbformat_minor": 0,
  "metadata": {
    "colab": {
      "name": "FirstNotebook.ipynb",
      "provenance": [],
      "machine_shape": "hm",
      "authorship_tag": "ABX9TyO2ctX6bEYz96vSguddS9b+",
      "include_colab_link": true
    },
    "kernelspec": {
      "name": "python3",
      "display_name": "Python 3"
    },
    "language_info": {
      "name": "python"
    },
    "accelerator": "TPU"
  },
  "cells": [
    {
      "cell_type": "markdown",
      "metadata": {
        "id": "view-in-github",
        "colab_type": "text"
      },
      "source": [
        "<a href=\"https://colab.research.google.com/github/jagan-lakshmipathy/DO180-apps/blob/master/FirstNotebook_colab.ipynb\" target=\"_parent\"><img src=\"https://colab.research.google.com/assets/colab-badge.svg\" alt=\"Open In Colab\"/></a>"
      ]
    },
    {
      "cell_type": "code",
      "metadata": {
        "colab": {
          "base_uri": "https://localhost:8080/"
        },
        "id": "Q-sgznRq21IJ",
        "outputId": "b10b1553-8631-4b74-c1ae-2029a2c9de70"
      },
      "source": [
        "from google.colab import drive\n",
        "drive.mount(\"/content/gdrive\")"
      ],
      "execution_count": 7,
      "outputs": [
        {
          "output_type": "stream",
          "name": "stdout",
          "text": [
            "Drive already mounted at /content/gdrive; to attempt to forcibly remount, call drive.mount(\"/content/gdrive\", force_remount=True).\n"
          ]
        }
      ]
    },
    {
      "cell_type": "code",
      "metadata": {
        "colab": {
          "base_uri": "https://localhost:8080/",
          "height": 35
        },
        "id": "dSmAQwLdoLRa",
        "outputId": "26ba7643-8c80-4aa4-b962-9608c419d95b"
      },
      "source": [
        "import gdown\n",
        "\n",
        "url = 'https://drive.google.com/uc?id=1S-z8nvTAYeBwRsQCGAlDloooNqt31T8M'\n",
        "outfile = 'X_label.csv'\n",
        "gdown.download(url, outfile, quiet=True)"
      ],
      "execution_count": 9,
      "outputs": [
        {
          "output_type": "execute_result",
          "data": {
            "application/vnd.google.colaboratory.intrinsic+json": {
              "type": "string"
            },
            "text/plain": [
              "'X_label.csv'"
            ]
          },
          "metadata": {},
          "execution_count": 9
        }
      ]
    },
    {
      "cell_type": "code",
      "metadata": {
        "colab": {
          "base_uri": "https://localhost:8080/"
        },
        "id": "e-m5rnFBodxi",
        "outputId": "5b11e43c-2fe5-49b5-b8f3-78defd05c312"
      },
      "source": [
        "url = 'https://drive.google.com/uc?id=1qtzN3qcusdHCe2zcM-hgXW19lW8FsHr8'\n",
        "outfile = 'X_train.pq'\n",
        "start_time = time.time()\n",
        "gdown.download(url, outfile, quiet=True)\n",
        "print(\"Time taken:\", time.time() - start_time)"
      ],
      "execution_count": 10,
      "outputs": [
        {
          "output_type": "stream",
          "name": "stdout",
          "text": [
            "Time taken: 43.02639293670654\n"
          ]
        }
      ]
    },
    {
      "cell_type": "code",
      "metadata": {
        "id": "J13zjKDQlTB1"
      },
      "source": [
        "import numpy as np\n",
        "import pandas as pd\n",
        "import pathlib\n",
        "import matplotlib.pyplot as plt\n",
        "from matplotlib import image\n",
        "import glob\n",
        "import cv2\n",
        "import os\n",
        "import zipfile\n",
        "import pyarrow as pa\n",
        "import pyarrow.parquet as pq\n",
        "import gc\n",
        "import time\n",
        "import sys\n",
        "import sklearn\n",
        "from sklearn.model_selection import train_test_split\n",
        "from sklearn.utils import shuffle\n",
        "from sklearn.model_selection import GridSearchCV\n",
        "from sklearn.metrics import classification_report\n",
        "from sklearn.naive_bayes import GaussianNB\n",
        "from sklearn.metrics import confusion_matrix\n",
        "import timeit"
      ],
      "execution_count": 13,
      "outputs": []
    },
    {
      "cell_type": "code",
      "metadata": {
        "id": "hphHhZ2kk1wW"
      },
      "source": [
        "def timeit(f):\n",
        "    def wrap(*args, **kw):\n",
        "        ts = time.time()\n",
        "        result = f(*args, **kw)\n",
        "        te = time.time()\n",
        "        print(f'func:{f.__name__} args:[{args}, {kw}] took: {te-ts:2.4f} sec')        \n",
        "        return result\n",
        "    return wrap"
      ],
      "execution_count": 14,
      "outputs": []
    },
    {
      "cell_type": "code",
      "metadata": {
        "id": "0luiROublDV0"
      },
      "source": [
        "@timeit\n",
        "def load():\n",
        "  path = pathlib.Path('/content/X_train.pq')\n",
        "  table = pq.read_table(str(path))\n",
        "  table = table.to_pandas().to_numpy()\n",
        "  return table"
      ],
      "execution_count": 15,
      "outputs": []
    },
    {
      "cell_type": "code",
      "metadata": {
        "colab": {
          "base_uri": "https://localhost:8080/"
        },
        "id": "mwarzh4nlHkE",
        "outputId": "cccd1b01-0749-4918-c8ce-0bf2a658e4f6"
      },
      "source": [
        "X_train = load()"
      ],
      "execution_count": 16,
      "outputs": [
        {
          "output_type": "stream",
          "name": "stdout",
          "text": [
            "func:load args:[(), {}] took: 37.1649 sec\n"
          ]
        }
      ]
    },
    {
      "cell_type": "code",
      "metadata": {
        "colab": {
          "base_uri": "https://localhost:8080/"
        },
        "id": "0geppRvzpUK0",
        "outputId": "0c79fd73-b087-4d93-db08-1ed19e04b461"
      },
      "source": [
        "y_train = np.array(pd.read_csv(pathlib.Path('/content/X_label.csv')))\n",
        "y_train"
      ],
      "execution_count": 18,
      "outputs": [
        {
          "output_type": "execute_result",
          "data": {
            "text/plain": [
              "array([['del'],\n",
              "       ['del'],\n",
              "       ['del'],\n",
              "       ...,\n",
              "       ['Z'],\n",
              "       ['Z'],\n",
              "       ['Z']], dtype=object)"
            ]
          },
          "metadata": {},
          "execution_count": 18
        }
      ]
    }
  ]
}